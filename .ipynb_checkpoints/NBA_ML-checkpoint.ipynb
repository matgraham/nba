{
 "cells": [
  {
   "cell_type": "code",
   "execution_count": 1,
   "metadata": {
    "collapsed": true
   },
   "outputs": [],
   "source": [
    "import pandas as pd\n",
    "import numpy as np\n",
    "import itertools"
   ]
  },
  {
   "cell_type": "code",
   "execution_count": 2,
   "metadata": {
    "collapsed": true
   },
   "outputs": [],
   "source": [
    "#statsDF - initial stats dataframe\n",
    "#gamesDF - initial games dataframe\n",
    "#newGamesDF - formatted games dataframe with game date as index and rest of record in one row\n",
    "#finalStats - formatted stats dataframe with player's name as the index\n",
    "#mainDF: The dataframe where the main analysis will take place."
   ]
  },
  {
   "cell_type": "code",
   "execution_count": 3,
   "metadata": {
    "collapsed": false
   },
   "outputs": [],
   "source": [
    "#STATS CELL: This prepares the stats section into a dataframe\n",
    "#Passing in csv file and getting rid of the unused rows\n",
    "statsDF = pd.read_csv('stats.csv', delim_whitespace=True)\n",
    "statsDF.columns = [col.replace(',', '') for col in statsDF.columns]\n",
    "# if you want to operate on multiple columns, put them in a list like so:\n",
    "cols = ['PLAYER', 'MIN', 'FGM','FGA', 'FG%', '3PM', '3PA','3P%','FTM','FTA','FT%','OREB','DREB','REB','AST','TOV','STL','BLK','PF','PTS','+/-']\n",
    "# pass them to df.replace(), specifying each char and it's replacement:\n",
    "statsDF[cols] = statsDF[cols].replace({'\\$': '', ',': ''}, regex=True)\n",
    "#Remove columns for team name, totals, and the word 'player'\n",
    "statsDF = statsDF[statsDF.PLAYER != 'PLAYER']\n",
    "statsDF = statsDF[statsDF.PLAYER != 'Totals:']\n",
    "statsDF = statsDF[statsDF.PLAYER != 'Cleveland']\n",
    "statsDF = statsDF[statsDF.PLAYER != 'BOS:']\n",
    "statsDF = statsDF[statsDF.PLAYER != 'CLE:']\n",
    "#Reset Index\n",
    "statsDF = statsDF.reset_index(drop=True)"
   ]
  },
  {
   "cell_type": "code",
   "execution_count": 4,
   "metadata": {
    "collapsed": false
   },
   "outputs": [],
   "source": [
    "#GAMES CELL: This prepares the games section into a dataframe\n",
    "#Passing in csv file and getting rid of the unused rows\n",
    "gamesDF = pd.read_csv('games.csv', header= None, names=['a','b','c','d','e','f','g','h','i'], index_col=False, error_bad_lines=False, delim_whitespace=True)\n",
    "gamesDF.columns = [col.replace(',', '') for col in gamesDF.columns]\n",
    "#if you want to operate on multiple columns, put them in a list like so:\n",
    "games_cols = ['a','b','c','d','e','f','g','h','i']\n",
    "# pass them to df.replace(), specifying each char and it's replacement:\n",
    "gamesDF[games_cols] = gamesDF[games_cols].replace({'\\$': '', ',': ''}, regex=True)\n",
    "# This will add the winner to row 1, colmumn b\n",
    "if int(gamesDF['a'].iloc[4]) > int(gamesDF['a'].iloc[8]):\n",
    "    gamesDF['b'].iloc[0] = gamesDF['a'].iloc[1]\n",
    "else:\n",
    "    gamesDF['b'].iloc[0] = gamesDF['a'].iloc[5]"
   ]
  },
  {
   "cell_type": "code",
   "execution_count": 5,
   "metadata": {
    "collapsed": false
   },
   "outputs": [
    {
     "data": {
      "text/html": [
       "<div>\n",
       "<table border=\"1\" class=\"dataframe\">\n",
       "  <thead>\n",
       "    <tr style=\"text-align: right;\">\n",
       "      <th></th>\n",
       "      <th>Home</th>\n",
       "      <th>Away</th>\n",
       "      <th>W/L</th>\n",
       "      <th>1st Qtr H</th>\n",
       "      <th>2nd Qtr H</th>\n",
       "      <th>3rd Qtr H</th>\n",
       "      <th>4th Qtr H</th>\n",
       "      <th>1st Qtr A</th>\n",
       "      <th>2nd Qtr A</th>\n",
       "      <th>3rd Qtr A</th>\n",
       "      <th>4th Qtr A</th>\n",
       "      <th>Total H</th>\n",
       "      <th>Total A</th>\n",
       "      <th>Ref1</th>\n",
       "      <th>Ref2</th>\n",
       "      <th>Ref3</th>\n",
       "    </tr>\n",
       "  </thead>\n",
       "  <tbody>\n",
       "    <tr>\n",
       "      <th>OCT 7, 2017</th>\n",
       "      <td>CLEVELAND</td>\n",
       "      <td>BOSTON</td>\n",
       "      <td>CLEVELAND</td>\n",
       "      <td>29</td>\n",
       "      <td>25</td>\n",
       "      <td>18</td>\n",
       "      <td>30</td>\n",
       "      <td>19</td>\n",
       "      <td>19</td>\n",
       "      <td>33</td>\n",
       "      <td>28</td>\n",
       "      <td>102</td>\n",
       "      <td>99</td>\n",
       "      <td>McCutchen</td>\n",
       "      <td>Smith</td>\n",
       "      <td>Forte</td>\n",
       "    </tr>\n",
       "  </tbody>\n",
       "</table>\n",
       "</div>"
      ],
      "text/plain": [
       "                  Home    Away        W/L 1st Qtr H 2nd Qtr H 3rd Qtr H  \\\n",
       "OCT 7, 2017  CLEVELAND  BOSTON  CLEVELAND        29        25        18   \n",
       "\n",
       "            4th Qtr H 1st Qtr A 2nd Qtr A 3rd Qtr A 4th Qtr A Total H Total A  \\\n",
       "OCT 7, 2017        30        19        19        33        28     102      99   \n",
       "\n",
       "                  Ref1   Ref2   Ref3  \n",
       "OCT 7, 2017  McCutchen  Smith  Forte  "
      ]
     },
     "execution_count": 5,
     "metadata": {},
     "output_type": "execute_result"
    }
   ],
   "source": [
    "#This cell will arrange the gamesDF into the actual formatted games dataframe, newGamesDF\n",
    "#Setting up the index on the main stats dataframe\n",
    "dateIndex = [gamesDF.iloc[9,0] + \" \" + gamesDF.iloc[9,1][1] + \", \" + gamesDF.iloc[9,2]]\n",
    "#Create an empty dataframe, based on the games date as the index \n",
    "newGamesDF = pd.DataFrame(index = dateIndex, columns=['Home','Away','W/L','1st Qtr H','2nd Qtr H','3rd Qtr H','4th Qtr H','1st Qtr A','2nd Qtr A','3rd Qtr A','4th Qtr A','Total H','Total A', 'Ref1','Ref2','Ref3'])\n",
    "#The next lines will pull the data from the cells in the gamesDF and into the newGamesDF dataframe\n",
    "newGamesDF['Away'] = gamesDF['a'].iloc[1]\n",
    "newGamesDF['Home'] = gamesDF['a'].iloc[5]\n",
    "newGamesDF['W/L'] = gamesDF['b'].iloc[0]\n",
    "newGamesDF['1st Qtr H'] = gamesDF['b'].iloc[12]\n",
    "newGamesDF['2nd Qtr H'] = gamesDF['c'].iloc[12]\n",
    "newGamesDF['3rd Qtr H'] = gamesDF['d'].iloc[12]\n",
    "newGamesDF['4th Qtr H'] = gamesDF['e'].iloc[12]\n",
    "newGamesDF['1st Qtr A'] = gamesDF['b'].iloc[11]\n",
    "newGamesDF['2nd Qtr A'] = gamesDF['c'].iloc[11]\n",
    "newGamesDF['3rd Qtr A'] = gamesDF['d'].iloc[11]\n",
    "newGamesDF['4th Qtr A'] = gamesDF['e'].iloc[11]\n",
    "newGamesDF['Total H'] = gamesDF['f'].iloc[12]\n",
    "newGamesDF['Total A'] = gamesDF['f'].iloc[11]\n",
    "newGamesDF['Ref1'] = gamesDF['c'].iloc[22][:-2]\n",
    "newGamesDF['Ref2'] = gamesDF['e'].iloc[22][:-2]\n",
    "newGamesDF['Ref3'] = gamesDF['g'].iloc[22]\n",
    "newGamesDF"
   ]
  },
  {
   "cell_type": "code",
   "execution_count": 6,
   "metadata": {
    "collapsed": false
   },
   "outputs": [
    {
     "name": "stdout",
     "output_type": "stream",
     "text": [
      "['Gordon Hayward', 'Jayson Tatum', 'Al Horford', 'Jaylen Brown', 'Kyrie Irving', 'Marcus Smart', 'Aron Baynes', 'Semi Ojeleye', 'Terry Rozier', 'Shane Larkin', 'Abdel Nader', 'Daniel Theis', 'LeBron James', 'Jae Crowder', 'Kevin Love', 'Dwyane Wade', 'Derrick Rose', 'Tristan Thompson', 'JR Smith', 'Iman Shumpert', 'Jeff Green', 'Kyle Korver', 'Jose Calderon', 'Channing Frye', 'Cedi Osman']\n"
     ]
    }
   ],
   "source": [
    "#Setting up the index on the main stats dataframe\n",
    "mainDFIndex = []\n",
    "for index, row in statsDF.iterrows():\n",
    "    if index % 2 == 0 and index != 50:\n",
    "        mainDFIndex.append(str(row['PLAYER']) + \" \" + str(row['MIN']))\n",
    "print(mainDFIndex)"
   ]
  },
  {
   "cell_type": "code",
   "execution_count": 7,
   "metadata": {
    "collapsed": false
   },
   "outputs": [],
   "source": [
    "#Setup dicts with the sub categories\n",
    "newDict = dict()\n",
    "something = statsDF.T.to_dict().values()\n",
    "for index, i in enumerate(something):\n",
    "    if index % 2 != 0:\n",
    "        newDict[index] = i"
   ]
  },
  {
   "cell_type": "code",
   "execution_count": 8,
   "metadata": {
    "collapsed": false
   },
   "outputs": [],
   "source": [
    "#put them in dataframe, index it with the main index, drop nan columns, rename the columns to their proper categories\n",
    "finalStats = pd.DataFrame.from_dict(newDict,orient='index')\n",
    "finalStats.index = mainDFIndex\n",
    "finalStats.drop(['+/-'], axis=1, inplace=True)\n",
    "finalStats = finalStats.rename(columns={'PLAYER':'MIN','MIN':'FGM', 'FGM':'FGA', 'FGA':'FG%', 'FG%':'3PM', '3PM':'3PA', '3PA':'3P%', '3P%':'FTM', 'FTM':'FTA', 'FTA':'FT%', 'FT%':'REB', 'REB':'DREB', 'DREB':'REB', 'REB':'AST', 'AST':'TOV', 'TOV':'BLK', 'BLK':'PF', 'PF':'PTS', 'PTS':'+/-'})"
   ]
  },
  {
   "cell_type": "code",
   "execution_count": 9,
   "metadata": {
    "collapsed": false
   },
   "outputs": [],
   "source": [
    "#This cell will create the mainDF, a multi-indexed dataframe which indexes by date, then team, then player\n",
    "#multiDFIndex will create a tuple for the multi-index dataframe\n",
    "#teams variable will bring the teams into a list of lists, which the next line will flatten into one list.\n",
    "teams = [newGamesDF['Away'].iloc[0] for i  in range(12)],[newGamesDF['Home'].iloc[0] for i  in range(13)]\n",
    "teams = sum(teams,[])\n",
    "multiDFIndex = [newGamesDF.index.tolist()*25,teams,mainDFIndex]"
   ]
  },
  {
   "cell_type": "code",
   "execution_count": 10,
   "metadata": {
    "collapsed": false
   },
   "outputs": [],
   "source": [
    "#mainDF: The dataframe where the main analysis will take place.\n",
    "mainDF = finalStats.set_index(multiDFIndex)"
   ]
  },
  {
   "cell_type": "code",
   "execution_count": 90,
   "metadata": {
    "collapsed": false
   },
   "outputs": [],
   "source": [
    "#This will take logic about the game itself and add it to the main DataFrame. There should be field for team points,home/away, win/loss\n",
    "#This is still all fucked up\n",
    "for index, row in mainDF.iterrows():\n",
    "    if index[1] == newGamesDF['Away'].iloc[0]:\n",
    "        mainDF['Total Points'] = newGamesDF['Total A'].iloc[0]\n",
    "    else:\n",
    "        mainDF['Total Points'] = newGamesDF['Total H'].iloc[0]\n"
   ]
  },
  {
   "cell_type": "code",
   "execution_count": 78,
   "metadata": {
    "collapsed": false
   },
   "outputs": [
    {
     "ename": "SyntaxError",
     "evalue": "invalid syntax (<ipython-input-78-1b30987fa7fd>, line 1)",
     "output_type": "error",
     "traceback": [
      "\u001b[0;36m  File \u001b[0;32m\"<ipython-input-78-1b30987fa7fd>\"\u001b[0;36m, line \u001b[0;32m1\u001b[0m\n\u001b[0;31m    print(mainDF.index[][1])\u001b[0m\n\u001b[0m                       ^\u001b[0m\n\u001b[0;31mSyntaxError\u001b[0m\u001b[0;31m:\u001b[0m invalid syntax\n"
     ]
    }
   ],
   "source": [
    "print(mainDF.index[][1])\n",
    "print(newGamesDF['Home'].iloc[0])"
   ]
  },
  {
   "cell_type": "code",
   "execution_count": 86,
   "metadata": {
    "collapsed": false
   },
   "outputs": [
    {
     "data": {
      "text/plain": [
       "OCT 7, 2017  BOSTON     Gordon Hayward      102\n",
       "                        Jayson Tatum        102\n",
       "                        Al Horford          102\n",
       "                        Jaylen Brown        102\n",
       "                        Kyrie Irving        102\n",
       "                        Marcus Smart        102\n",
       "                        Aron Baynes         102\n",
       "                        Semi Ojeleye        102\n",
       "                        Terry Rozier        102\n",
       "                        Shane Larkin        102\n",
       "                        Abdel Nader         102\n",
       "                        Daniel Theis        102\n",
       "             CLEVELAND  LeBron James        102\n",
       "                        Jae Crowder         102\n",
       "                        Kevin Love          102\n",
       "                        Dwyane Wade         102\n",
       "                        Derrick Rose        102\n",
       "                        Tristan Thompson    102\n",
       "                        JR Smith            102\n",
       "                        Iman Shumpert       102\n",
       "                        Jeff Green          102\n",
       "                        Kyle Korver         102\n",
       "                        Jose Calderon       102\n",
       "                        Channing Frye       102\n",
       "                        Cedi Osman          102\n",
       "Name: Total Points, dtype: object"
      ]
     },
     "execution_count": 86,
     "metadata": {},
     "output_type": "execute_result"
    }
   ],
   "source": [
    "mainDF['Total Points']"
   ]
  },
  {
   "cell_type": "code",
   "execution_count": null,
   "metadata": {
    "collapsed": true
   },
   "outputs": [],
   "source": []
  }
 ],
 "metadata": {
  "kernelspec": {
   "display_name": "Python 3",
   "language": "python",
   "name": "python3"
  },
  "language_info": {
   "codemirror_mode": {
    "name": "ipython",
    "version": 3
   },
   "file_extension": ".py",
   "mimetype": "text/x-python",
   "name": "python",
   "nbconvert_exporter": "python",
   "pygments_lexer": "ipython3",
   "version": "3.5.2"
  }
 },
 "nbformat": 4,
 "nbformat_minor": 2
}
