{
 "cells": [
  {
   "cell_type": "code",
   "execution_count": 217,
   "metadata": {},
   "outputs": [],
   "source": [
    "import pandas as pd\n",
    "import numpy as np\n",
    "import random\n",
    "from functools import reduce\n",
    "import math\n",
    "from operator import add, itemgetter\n",
    "from sklearn.externals import joblib\n",
    "from sklearn.ensemble import RandomForestRegressor"
   ]
  },
  {
   "cell_type": "code",
   "execution_count": 185,
   "metadata": {},
   "outputs": [
    {
     "data": {
      "text/plain": [
       "'Import Data must be in the following format\\n  Name, Ref1, Ref2, Ref3, Team, Years, Pos, Wt, Last_Game_TOV,\\n  AverageTOV, Last_Game_REB, AverageREB, Last_Game_3PM, Average3PM,\\n  Last_Game_FGM, AverageFGM, Last_Game_PTS, AveragePTS, Last_Game_AST,\\n  AverageAST, Last_Game_STL, AverageSTL, Last_Game_BLK, AverageBLK,\\n  game_number, Home/Away, Opponent'"
      ]
     },
     "execution_count": 185,
     "metadata": {},
     "output_type": "execute_result"
    }
   ],
   "source": [
    "'''Import Data must be in the following format\n",
    "  Name, Ref1, Ref2, Ref3, Team, Years, Pos, Wt, Last_Game_TOV,\n",
    "  AverageTOV, Last_Game_REB, AverageREB, Last_Game_3PM, Average3PM,\n",
    "  Last_Game_FGM, AverageFGM, Last_Game_PTS, AveragePTS, Last_Game_AST,\n",
    "  AverageAST, Last_Game_STL, AverageSTL, Last_Game_BLK, AverageBLK,\n",
    "  game_number, Home/Away, Opponent'''"
   ]
  },
  {
   "cell_type": "code",
   "execution_count": 196,
   "metadata": {},
   "outputs": [],
   "source": [
    "#Import the player file and do a few additions and checks\n",
    "player = pd.read_csv('import.csv')\n",
    "player_pos = player['Pos']\n",
    "player_name = player['Name']\n",
    "player = pd.get_dummies(player)\n",
    "player = player.fillna(0)"
   ]
  },
  {
   "cell_type": "code",
   "execution_count": 197,
   "metadata": {},
   "outputs": [],
   "source": [
    "original = pd.read_csv('F:\\\\Projects\\\\NBA\\\\DB_Files\\\\master.csv')\n",
    "original.drop(columns=['PTS','Home', 'Away','Game', 'MIN', 'Date','FTM', '3P%', '3PA', 'PF', 'FG%', 'FGA',\n",
    "       'OREB', 'FT%', 'FTA', 'DREB','+/-', '1QH', '2QH', '3QH', '4QH', '1QA', '2QA', '3QA',\n",
    "       '4QA', 'Total_H', 'Total_A', 'W/L','Fantasy_Score',\n",
    "        'TOV', 'REB', '3PM', 'FGM', 'AST', 'STL', 'BLK',], axis=1,inplace=True)\n",
    "original = pd.get_dummies(original)\n",
    "original = original.iloc[0:0]"
   ]
  },
  {
   "cell_type": "code",
   "execution_count": 198,
   "metadata": {},
   "outputs": [
    {
     "name": "stderr",
     "output_type": "stream",
     "text": [
      "C:\\Users\\matth\\Anaconda3\\lib\\site-packages\\pandas\\core\\frame.py:6201: FutureWarning: Sorting because non-concatenation axis is not aligned. A future version\n",
      "of pandas will change to not sort by default.\n",
      "\n",
      "To accept the future behavior, pass 'sort=True'.\n",
      "\n",
      "To retain the current behavior and silence the warning, pass sort=False\n",
      "\n",
      "  sort=sort)\n"
     ]
    }
   ],
   "source": [
    "combined = original.append(player)\n",
    "combined = combined.fillna(0)\n"
   ]
  },
  {
   "cell_type": "code",
   "execution_count": 199,
   "metadata": {},
   "outputs": [],
   "source": [
    "results = pd.DataFrame()"
   ]
  },
  {
   "cell_type": "code",
   "execution_count": 200,
   "metadata": {},
   "outputs": [],
   "source": [
    "targets = ['TOV', 'REB', '3PM', 'FGM', 'AST', 'STL', 'BLK']"
   ]
  },
  {
   "cell_type": "code",
   "execution_count": 201,
   "metadata": {},
   "outputs": [
    {
     "name": "stderr",
     "output_type": "stream",
     "text": [
      "C:\\Users\\matth\\Anaconda3\\lib\\site-packages\\sklearn\\base.py:311: UserWarning: Trying to unpickle estimator DecisionTreeRegressor from version 0.19.2 when using version 0.19.1. This might lead to breaking code or invalid results. Use at your own risk.\n",
      "  UserWarning)\n",
      "C:\\Users\\matth\\Anaconda3\\lib\\site-packages\\sklearn\\base.py:311: UserWarning: Trying to unpickle estimator RandomForestRegressor from version 0.19.2 when using version 0.19.1. This might lead to breaking code or invalid results. Use at your own risk.\n",
      "  UserWarning)\n"
     ]
    }
   ],
   "source": [
    "for i in targets:\n",
    "    model = joblib.load('F:\\\\Projects\\\\NBA\\\\Pickles\\\\' + i + '.pkl')\n",
    "    predict = model.predict(combined)\n",
    "    results[i] = predict\n",
    "results['Name'] = player_name\n",
    "results['POS'] = player_pos"
   ]
  },
  {
   "cell_type": "code",
   "execution_count": 202,
   "metadata": {},
   "outputs": [],
   "source": [
    "def fantasy_points(df):\n",
    "    score = (df['3PM'] * 3) + (df['FGM'] * 2) + (df['REB'] * 1) + (df['AST'] * 1.5) + (df['BLK'] * 3) + (df['STL'] * 3) + (df['TOV'] * -1)\n",
    "    return score\n",
    "\n",
    "results['Fantasy Score'] = results.apply(fantasy_points, axis=1)"
   ]
  },
  {
   "cell_type": "markdown",
   "metadata": {},
   "source": [
    "## Salary Calc"
   ]
  },
  {
   "cell_type": "code",
   "execution_count": 203,
   "metadata": {},
   "outputs": [],
   "source": [
    "salary = pd.read_csv('salary.csv')"
   ]
  },
  {
   "cell_type": "code",
   "execution_count": 204,
   "metadata": {},
   "outputs": [
    {
     "data": {
      "text/html": [
       "<div>\n",
       "<style scoped>\n",
       "    .dataframe tbody tr th:only-of-type {\n",
       "        vertical-align: middle;\n",
       "    }\n",
       "\n",
       "    .dataframe tbody tr th {\n",
       "        vertical-align: top;\n",
       "    }\n",
       "\n",
       "    .dataframe thead th {\n",
       "        text-align: right;\n",
       "    }\n",
       "</style>\n",
       "<table border=\"1\" class=\"dataframe\">\n",
       "  <thead>\n",
       "    <tr style=\"text-align: right;\">\n",
       "      <th></th>\n",
       "      <th>Name</th>\n",
       "      <th>Salary</th>\n",
       "    </tr>\n",
       "  </thead>\n",
       "  <tbody>\n",
       "    <tr>\n",
       "      <th>0</th>\n",
       "      <td>Alan Williams</td>\n",
       "      <td>8476</td>\n",
       "    </tr>\n",
       "    <tr>\n",
       "      <th>1</th>\n",
       "      <td>Alex Len</td>\n",
       "      <td>9500</td>\n",
       "    </tr>\n",
       "    <tr>\n",
       "      <th>2</th>\n",
       "      <td>Anthony Tolliver</td>\n",
       "      <td>9947</td>\n",
       "    </tr>\n",
       "    <tr>\n",
       "      <th>3</th>\n",
       "      <td>Demarcus Green</td>\n",
       "      <td>7851</td>\n",
       "    </tr>\n",
       "    <tr>\n",
       "      <th>4</th>\n",
       "      <td>Antonius Cleveland</td>\n",
       "      <td>8310</td>\n",
       "    </tr>\n",
       "  </tbody>\n",
       "</table>\n",
       "</div>"
      ],
      "text/plain": [
       "                 Name  Salary\n",
       "0       Alan Williams    8476\n",
       "1            Alex Len    9500\n",
       "2    Anthony Tolliver    9947\n",
       "3      Demarcus Green    7851\n",
       "4  Antonius Cleveland    8310"
      ]
     },
     "execution_count": 204,
     "metadata": {},
     "output_type": "execute_result"
    }
   ],
   "source": [
    "salary.head()"
   ]
  },
  {
   "cell_type": "code",
   "execution_count": 205,
   "metadata": {},
   "outputs": [],
   "source": [
    "salary_cap = 50000\n",
    "team = ['PG', 'SG', 'SF', 'PF', 'C','PG', 'SG', 'SF', 'PF']"
   ]
  },
  {
   "cell_type": "code",
   "execution_count": 206,
   "metadata": {},
   "outputs": [],
   "source": [
    "results['Salary'] = salary['Salary']\n",
    "results['Value'] = salary['Salary']/results['Fantasy Score']"
   ]
  },
  {
   "cell_type": "code",
   "execution_count": 207,
   "metadata": {},
   "outputs": [],
   "source": [
    "def pos_change(df_column):\n",
    "    if df_column == 'F-C':\n",
    "        return 'PF'\n",
    "    elif df_column == 'G-F':\n",
    "        return 'SG'\n",
    "    elif df_column == 'F-C':\n",
    "        return 'PF'\n",
    "    elif df_column == 'F-G':\n",
    "        return 'SF'\n",
    "    elif df_column == 'G ':\n",
    "        return 'PG'\n",
    "    elif df_column == 'F':\n",
    "        return 'PF'\n",
    "    elif df_column == 'C-F':\n",
    "        return 'C'\n",
    "    else:\n",
    "        return df_column"
   ]
  },
  {
   "cell_type": "code",
   "execution_count": 208,
   "metadata": {},
   "outputs": [],
   "source": [
    "results['POS'] = results['POS'].apply(lambda x: pos_change(x))"
   ]
  },
  {
   "cell_type": "code",
   "execution_count": 209,
   "metadata": {},
   "outputs": [
    {
     "data": {
      "text/plain": [
       "G     37\n",
       "PF    27\n",
       "C     16\n",
       "SG     8\n",
       "SF     6\n",
       "PG     1\n",
       "Name: POS, dtype: int64"
      ]
     },
     "execution_count": 209,
     "metadata": {},
     "output_type": "execute_result"
    }
   ],
   "source": [
    "results.POS.value_counts()"
   ]
  },
  {
   "cell_type": "code",
   "execution_count": 210,
   "metadata": {},
   "outputs": [
    {
     "data": {
      "text/html": [
       "<div>\n",
       "<style scoped>\n",
       "    .dataframe tbody tr th:only-of-type {\n",
       "        vertical-align: middle;\n",
       "    }\n",
       "\n",
       "    .dataframe tbody tr th {\n",
       "        vertical-align: top;\n",
       "    }\n",
       "\n",
       "    .dataframe thead th {\n",
       "        text-align: right;\n",
       "    }\n",
       "</style>\n",
       "<table border=\"1\" class=\"dataframe\">\n",
       "  <thead>\n",
       "    <tr style=\"text-align: right;\">\n",
       "      <th></th>\n",
       "      <th>TOV</th>\n",
       "      <th>REB</th>\n",
       "      <th>3PM</th>\n",
       "      <th>FGM</th>\n",
       "      <th>AST</th>\n",
       "      <th>STL</th>\n",
       "      <th>BLK</th>\n",
       "      <th>Name</th>\n",
       "      <th>POS</th>\n",
       "      <th>Fantasy Score</th>\n",
       "      <th>Salary</th>\n",
       "      <th>Value</th>\n",
       "    </tr>\n",
       "  </thead>\n",
       "  <tbody>\n",
       "    <tr>\n",
       "      <th>0</th>\n",
       "      <td>1.6</td>\n",
       "      <td>6.3</td>\n",
       "      <td>2.5</td>\n",
       "      <td>2.7</td>\n",
       "      <td>2.0</td>\n",
       "      <td>0.3</td>\n",
       "      <td>0.5</td>\n",
       "      <td>Alan Williams</td>\n",
       "      <td>PF</td>\n",
       "      <td>23.00</td>\n",
       "      <td>8476</td>\n",
       "      <td>368.521739</td>\n",
       "    </tr>\n",
       "    <tr>\n",
       "      <th>1</th>\n",
       "      <td>3.2</td>\n",
       "      <td>7.2</td>\n",
       "      <td>1.1</td>\n",
       "      <td>1.9</td>\n",
       "      <td>2.2</td>\n",
       "      <td>0.4</td>\n",
       "      <td>0.7</td>\n",
       "      <td>Alex Len</td>\n",
       "      <td>C</td>\n",
       "      <td>17.70</td>\n",
       "      <td>9500</td>\n",
       "      <td>536.723164</td>\n",
       "    </tr>\n",
       "    <tr>\n",
       "      <th>2</th>\n",
       "      <td>3.2</td>\n",
       "      <td>2.3</td>\n",
       "      <td>0.8</td>\n",
       "      <td>1.7</td>\n",
       "      <td>1.0</td>\n",
       "      <td>0.3</td>\n",
       "      <td>0.7</td>\n",
       "      <td>Anthony Tolliver</td>\n",
       "      <td>PF</td>\n",
       "      <td>9.40</td>\n",
       "      <td>9947</td>\n",
       "      <td>1058.191489</td>\n",
       "    </tr>\n",
       "    <tr>\n",
       "      <th>3</th>\n",
       "      <td>0.4</td>\n",
       "      <td>1.7</td>\n",
       "      <td>0.4</td>\n",
       "      <td>5.8</td>\n",
       "      <td>1.0</td>\n",
       "      <td>0.3</td>\n",
       "      <td>0.6</td>\n",
       "      <td>Antonius Cleveland</td>\n",
       "      <td>G</td>\n",
       "      <td>18.30</td>\n",
       "      <td>7851</td>\n",
       "      <td>429.016393</td>\n",
       "    </tr>\n",
       "    <tr>\n",
       "      <th>4</th>\n",
       "      <td>5.7</td>\n",
       "      <td>4.7</td>\n",
       "      <td>3.1</td>\n",
       "      <td>2.3</td>\n",
       "      <td>2.7</td>\n",
       "      <td>1.2</td>\n",
       "      <td>0.7</td>\n",
       "      <td>Blake Griffin</td>\n",
       "      <td>PF</td>\n",
       "      <td>22.65</td>\n",
       "      <td>8310</td>\n",
       "      <td>366.887417</td>\n",
       "    </tr>\n",
       "  </tbody>\n",
       "</table>\n",
       "</div>"
      ],
      "text/plain": [
       "   TOV  REB  3PM  FGM  AST  STL  BLK                Name POS  Fantasy Score  \\\n",
       "0  1.6  6.3  2.5  2.7  2.0  0.3  0.5       Alan Williams  PF          23.00   \n",
       "1  3.2  7.2  1.1  1.9  2.2  0.4  0.7            Alex Len   C          17.70   \n",
       "2  3.2  2.3  0.8  1.7  1.0  0.3  0.7    Anthony Tolliver  PF           9.40   \n",
       "3  0.4  1.7  0.4  5.8  1.0  0.3  0.6  Antonius Cleveland   G          18.30   \n",
       "4  5.7  4.7  3.1  2.3  2.7  1.2  0.7       Blake Griffin  PF          22.65   \n",
       "\n",
       "   Salary        Value  \n",
       "0    8476   368.521739  \n",
       "1    9500   536.723164  \n",
       "2    9947  1058.191489  \n",
       "3    7851   429.016393  \n",
       "4    8310   366.887417  "
      ]
     },
     "execution_count": 210,
     "metadata": {},
     "output_type": "execute_result"
    }
   ],
   "source": [
    "results.head()"
   ]
  },
  {
   "cell_type": "code",
   "execution_count": 18,
   "metadata": {},
   "outputs": [],
   "source": [
    "def CreateRandomTeam(df):    \n",
    "    team = {\n",
    "    'pg' : random.sample(set(df[df['POS'] == 'PG'].iloc[:,7]),1),\n",
    "    'sg' : random.sample(set(df[df['POS'] == 'SG'].iloc[:,7]),1),\n",
    "    'sf' : random.sample(set(df[df['POS'] == 'SF'].iloc[:,7]),1),\n",
    "    'pf' : random.sample(set(df[df['POS'] == 'PF'].iloc[:,7]),1),\n",
    "    'c' : random.sample(set(df[df['POS'] == 'C'].iloc[:,7]),1),\n",
    "    }\n",
    "        \n",
    "    \n",
    "    while True:\n",
    "        pg = team['pg'][0]\n",
    "        if pg in team['sg'] or pg in team['sf'] or pg in team['pf'] or pg in team['c']:\n",
    "            team['pg'] = random.sample(pgs,1)\n",
    "        else:\n",
    "            break\n",
    "    \n",
    "    while True:\n",
    "        sg = team['sg'][0]\n",
    "        if sg in team['pg'] or sg in team['sf'] or sg in team['pf'] or sg in team['c']:\n",
    "            team['sg'] = random.sample(sgs,1)\n",
    "        else:\n",
    "            break\n",
    "    \n",
    "    while True:\n",
    "        sf = team['sf'][0]\n",
    "        if sf in team['pg'] or sf in team['sg'] or sf in team['pf'] or sf in team['c']:\n",
    "            team['sf'] = random.sample(sfs,1)\n",
    "        else:\n",
    "            break\n",
    "    \n",
    "    while True:\n",
    "        pf = team['pf'][0]\n",
    "        if pf in team['pg'] or pf in team['sg'] or pf in team['sf'] or pf in team['c']:\n",
    "            team['pf'] = random.sample(pfs,1)\n",
    "        else:\n",
    "            break\n",
    "    \n",
    "    while True:\n",
    "        c = team['c'][0]\n",
    "        if c in team['pg'] or c in team['sg'] or c in team['sf'] or c in team['pf']:\n",
    "            team['c'] = random.sample(cs,1)\n",
    "        else:\n",
    "            break\n",
    "            \n",
    "    return team"
   ]
  },
  {
   "cell_type": "code",
   "execution_count": 212,
   "metadata": {},
   "outputs": [],
   "source": [
    "def GetTeamPointTotal(team):\n",
    "    total_points = 0\n",
    "    for i in team:\n",
    "        name = team[i][0]\n",
    "        points = results[results['Name'] == name].iloc[:,9]\n",
    "        total_points += points.item()\n",
    "    return total_points    "
   ]
  },
  {
   "cell_type": "code",
   "execution_count": 155,
   "metadata": {},
   "outputs": [],
   "source": [
    "def GetTeamSalary(team):\n",
    "    total_salary = 0\n",
    "    for i in team:\n",
    "        name = team[i][0]\n",
    "        cost = salary[salary['Name'] == name].iloc[:,1]\n",
    "        total_salary += cost.item()\n",
    "    return total_salary"
   ]
  },
  {
   "cell_type": "code",
   "execution_count": 49,
   "metadata": {},
   "outputs": [],
   "source": [
    "#def printTeam(team):\n",
    "    #print(team['pg'][0])\n",
    "    #print(team['sg'][0])\n",
    "    #print(team['sf'][0])\n",
    "    #print(team['pf'][0])\n",
    "    #print(team['c'][0])\n",
    "    "
   ]
  },
  {
   "cell_type": "code",
   "execution_count": 50,
   "metadata": {},
   "outputs": [],
   "source": [
    "def CreatePopulation(count):\n",
    "    return [CreateRandomTeam(results) for i in range(0,count)]"
   ]
  },
  {
   "cell_type": "code",
   "execution_count": 116,
   "metadata": {},
   "outputs": [],
   "source": [
    "def fitness(team):\n",
    "    points = GetTeamPointTotal(team)\n",
    "    salary = GetTeamSalary(team)\n",
    "    values = team.values()\n",
    "    if salary > 50000:\n",
    "        return 0\n",
    "    return points"
   ]
  },
  {
   "cell_type": "code",
   "execution_count": 52,
   "metadata": {},
   "outputs": [],
   "source": [
    "def grade(pop):\n",
    "    'Find average fitness for a population.'\n",
    "    summed = reduce(add, (fitness(team) for team in pop))\n",
    "    return summed / (len(pop) * 1.0)"
   ]
  },
  {
   "cell_type": "code",
   "execution_count": 53,
   "metadata": {},
   "outputs": [],
   "source": [
    "def listToTeam(players):\n",
    "    return {\n",
    "    'pg' : [players[0]],\n",
    "    'sg' : [players[1]],\n",
    "    'sf' : [players[2]],\n",
    "    'pf' : [players[3]],\n",
    "    'c' : [players[4]],\n",
    "    }"
   ]
  },
  {
   "cell_type": "code",
   "execution_count": 54,
   "metadata": {},
   "outputs": [],
   "source": [
    "def mutate(team):\n",
    "    positions = ['pg','sg','sf','pf','c']\n",
    "      \n",
    "    random_pos = random.choice(positions)\n",
    "    if random_pos == 'pg':\n",
    "        team['pg'][0] = random.choice(pgs)\n",
    "    if random_pos == 'sg':\n",
    "        team['sg'][0] = random.choice(sgs)\n",
    "    if random_pos == 'sf':\n",
    "        team['sf'][0] = random.choice(sfs)\n",
    "    if random_pos == 'pf':\n",
    "        team['pf'][0] = random.choice(pfs)\n",
    "    if random_pos == 'c':\n",
    "        team['c'][0] = random.choice(cs)\n",
    "        \n",
    "    \n",
    "    while True:\n",
    "        pg = team['pg'][0]\n",
    "        if pg in team['sg'] or pg in team['sf'] or pg in team['pf'] or pg in team['c']:\n",
    "            team['pg'] = random.sample(pgs,1)\n",
    "        else:\n",
    "            break\n",
    "    \n",
    "    while True:\n",
    "        sg = team['sg'][0]\n",
    "        if sg in team['pg'] or sg in team['sf'] or sg in team['pf'] or sg in team['c']:\n",
    "            team['sg'] = random.sample(sgs,1)\n",
    "        else:\n",
    "            break\n",
    "    \n",
    "    while True:\n",
    "        sf = team['sf'][0]\n",
    "        if sf in team['pg'] or sf in team['sg'] or sf in team['pf'] or sf in team['c']:\n",
    "            team['sf'] = random.sample(sfs,1)\n",
    "        else:\n",
    "            break\n",
    "    \n",
    "    while True:\n",
    "        pf = team['pf'][0]\n",
    "        if pf in team['pg'] or pf in team['sg'] or pf in team['sf'] or pf in team['c']:\n",
    "            team['pf'] = random.sample(pfs,1)\n",
    "        else:\n",
    "            break\n",
    "    \n",
    "    while True:\n",
    "        c = team['c'][0]\n",
    "        if c in team['pg'] or c in team['sg'] or c in team['sf'] or c in team['pf']:\n",
    "            team['c'] = random.sample(cs,1)\n",
    "        else:\n",
    "            break\n",
    "           \n",
    "    return team"
   ]
  },
  {
   "cell_type": "code",
   "execution_count": 55,
   "metadata": {},
   "outputs": [],
   "source": [
    "def evolve(pop, retain=0.55, random_select=0.1, mutate_chance=0.01):\n",
    "    graded = [ (fitness(team), team) for team in pop]\n",
    "    print(graded)\n",
    "    graded = [ x[1] for x in sorted(graded, reverse=True)]\n",
    "    retain_length = int(len(graded)*retain)\n",
    "    parents = graded[:retain_length]\n",
    "\n",
    "    # randomly add other individuals to promote genetic diversity\n",
    "    for individual in graded[retain_length:]:\n",
    "        if random_select > random.random():\n",
    "            parents.append(individual)\n",
    "\n",
    "    # mutate some individuals\n",
    "    for individual in parents:\n",
    "        if mutate_chance > random.random():\n",
    "            individual = mutate(individual)\n",
    "\n",
    "    # crossover parents to create children\n",
    "    parents_length = len(parents)\n",
    "    desired_length = len(pop) - parents_length\n",
    "    children = []\n",
    "    while len(children) < desired_length:\n",
    "        male = random.randint(0, parents_length-1)\n",
    "        female = random.randint(0, parents_length-1)\n",
    "        if male != female:\n",
    "            male = parents[male]\n",
    "            female = parents[female]\n",
    "            babies = breed(male,female)\n",
    "            for baby in babies:\n",
    "                children.append(baby)\n",
    "    parents.extend(children)\n",
    "    return parents"
   ]
  },
  {
   "cell_type": "code",
   "execution_count": 214,
   "metadata": {},
   "outputs": [
    {
     "ename": "TypeError",
     "evalue": "'str' object is not callable",
     "output_type": "error",
     "traceback": [
      "\u001b[1;31m---------------------------------------------------------------------------\u001b[0m",
      "\u001b[1;31mTypeError\u001b[0m                                 Traceback (most recent call last)",
      "\u001b[1;32m<ipython-input-214-37f61c6fd2e0>\u001b[0m in \u001b[0;36m<module>\u001b[1;34m()\u001b[0m\n\u001b[0;32m     19\u001b[0m     \u001b[1;32mif\u001b[0m \u001b[0mteamSalary\u001b[0m \u001b[1;33m<=\u001b[0m \u001b[1;36m50000\u001b[0m\u001b[1;33m:\u001b[0m\u001b[1;33m\u001b[0m\u001b[0m\n\u001b[0;32m     20\u001b[0m         \u001b[0mvalid_teams\u001b[0m\u001b[1;33m.\u001b[0m\u001b[0mappend\u001b[0m\u001b[1;33m(\u001b[0m\u001b[0mi\u001b[0m\u001b[1;33m)\u001b[0m\u001b[1;33m\u001b[0m\u001b[0m\n\u001b[1;32m---> 21\u001b[1;33m \u001b[0msorted\u001b[0m\u001b[1;33m(\u001b[0m\u001b[0mvalid_teams\u001b[0m\u001b[1;33m,\u001b[0m\u001b[0mkey\u001b[0m\u001b[1;33m=\u001b[0m\u001b[1;34m'Team Points'\u001b[0m\u001b[1;33m)\u001b[0m\u001b[1;33m\u001b[0m\u001b[0m\n\u001b[0m",
      "\u001b[1;31mTypeError\u001b[0m: 'str' object is not callable"
     ]
    }
   ],
   "source": [
    "best_teams=[]\n",
    "valid_teams = []\n",
    "history = []\n",
    "p = CreatePopulation(15000)\n",
    "#fitness_history = [grade(p)]\n",
    "#fitness_history = []\n",
    "#for i in range(40):\n",
    "    #p = evolve(p)\n",
    "    #fitness_history.append(grade(p))\n",
    "    #valid_teams = [team for team in p if GetTeamSalary(team) <= 50000]\n",
    "    #valid_teams = sorted(valid_teams, key=GetTeamPointTotal, reverse=True)\n",
    "    #if len(valid_teams) > 0:\n",
    "        #best_teams.append(valid_teams[0])\n",
    "for i in p:\n",
    "    teamSalary = GetTeamSalary(i)\n",
    "    teamPoints = GetTeamPointTotal(i)\n",
    "    i['Team Salary'] = teamSalary\n",
    "    i['Team Points'] = teamPoints\n",
    "    if teamSalary <= 50000:\n",
    "        valid_teams.append(i)\n",
    "valid_teams.sort(key=itemgetter('Team Points'), reverse=True)"
   ]
  },
  {
   "cell_type": "code",
   "execution_count": null,
   "metadata": {},
   "outputs": [],
   "source": []
  }
 ],
 "metadata": {
  "kernelspec": {
   "display_name": "Python 3",
   "language": "python",
   "name": "python3"
  },
  "language_info": {
   "codemirror_mode": {
    "name": "ipython",
    "version": 3
   },
   "file_extension": ".py",
   "mimetype": "text/x-python",
   "name": "python",
   "nbconvert_exporter": "python",
   "pygments_lexer": "ipython3",
   "version": "3.6.5"
  }
 },
 "nbformat": 4,
 "nbformat_minor": 2
}
