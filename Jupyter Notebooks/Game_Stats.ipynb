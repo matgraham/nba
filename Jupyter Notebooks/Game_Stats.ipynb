{
 "cells": [
  {
   "cell_type": "code",
   "execution_count": 66,
   "metadata": {
    "collapsed": true
   },
   "outputs": [],
   "source": [
    "import pandas as pd\n",
    "import math\n",
    "import numpy as np\n",
    "import itertools"
   ]
  },
  {
   "cell_type": "code",
   "execution_count": 76,
   "metadata": {
    "collapsed": true
   },
   "outputs": [],
   "source": [
    "#statsDF - initial stats dataframe\n",
    "#gamesDF - initial games dataframe\n",
    "#newGamesDF - formatted games dataframe with game date as index and rest of record in one row\n",
    "#finalStats - formatted stats dataframe with player's name as the index\n",
    "#mainDF: The dataframe where the main analysis will take place."
   ]
  },
  {
   "cell_type": "code",
   "execution_count": 77,
   "metadata": {
    "collapsed": true
   },
   "outputs": [],
   "source": [
    "stats = '/home/acer/github/nba/stats.csv'\n",
    "games = '/home/acer/github/nba/games.csv'"
   ]
  },
  {
   "cell_type": "code",
   "execution_count": 69,
   "metadata": {
    "collapsed": false
   },
   "outputs": [],
   "source": [
    "#Dump the stats dataframe into a csv and clean it up\n",
    "cols = ['PLAYER', 'MIN', 'FGM','FGA', 'FG%', '3PM', '3PA','3P%','FTM','FTA','FT%','OREB','DREB','REB','AST','TOV','STL','BLK','PF','PTS','+/-']\n",
    "statsDF = pd.read_csv(stats, header= None, names=cols, index_col=False, error_bad_lines=False, delim_whitespace=True)\n",
    "statsDF[cols] = statsDF[cols].replace({'\\$': '', ',': ''}, regex=True)\n",
    "statsDF['PLAYER'] = statsDF['PLAYER'].str.replace('.','')\n",
    "statsDF['PLAYER'] = statsDF['PLAYER'].str.replace('-','')\n",
    "statsDF['PLAYER'] = statsDF['PLAYER'].str.replace(\"'\",'')\n",
    "statsDF['MIN'] = statsDF['MIN'].str.replace(\"'\",'')\n",
    "statsDF['MIN'] = statsDF['MIN'].replace({'\\$': '', '-': ''}, regex=True)\n",
    "#Drop the first line for the team name\n",
    "if statsDF.iloc[0][0] == 'GLOSSARY':\n",
    "    statsDF.drop([0,1], inplace=True)\n",
    "else:\n",
    "    statsDF.drop(0, inplace=True)"
   ]
  },
  {
   "cell_type": "code",
   "execution_count": 70,
   "metadata": {
    "collapsed": false
   },
   "outputs": [],
   "source": [
    "#The nba.com site changed its formatting so this is to remove non-existent rows\n",
    "\n",
    "new_format_mask = 0\n",
    "for index, row in statsDF.iterrows():\n",
    "    if new_format_mask == 1:\n",
    "        statsDF.drop(index, inplace=True)\n",
    "        if row.iloc[0] == 'Totals:' and math.isnan(row.iloc[1]) == True:\n",
    "            new_format_mask = 0 \n",
    "        else:\n",
    "            continue\n",
    "    else:\n",
    "        if row.iloc[0] == 'PLAYER' and row.iloc[1] != \"MIN\":\n",
    "            new_format_mask += 1\n",
    "        else:\n",
    "            continue\n",
    "\n",
    "for index, row in statsDF.iterrows():\n",
    "    if row.iloc[0][3:4] == \":\":\n",
    "        statsDF.drop(index, inplace=True)\n",
    "\n",
    "    "
   ]
  },
  {
   "cell_type": "code",
   "execution_count": 71,
   "metadata": {
    "collapsed": false
   },
   "outputs": [],
   "source": [
    "statsDF = statsDF[statsDF.PLAYER != 'PLAYER']\n",
    "statsDF = statsDF[statsDF.PLAYER != 'Totals:']\n",
    "statsDF = statsDF[statsDF.MIN != 'PLAYERS']\n",
    "statsDF = statsDF.reset_index(drop=True)"
   ]
  },
  {
   "cell_type": "code",
   "execution_count": 72,
   "metadata": {
    "collapsed": false
   },
   "outputs": [],
   "source": [
    "#This will delete the second time a team is named. \n",
    "for index, row in statsDF.iterrows():\n",
    "    print(row.iloc[1])\n",
    "    try: \n",
    "        if row.iloc[1].isalpha() and statsDF.iloc[index + 1][1].isalpha() or row.iloc[1] == \"76ers\":\n",
    "            statsDF.drop(index, inplace=True)\n",
    "            statsDF = statsDF.reset_index(drop=True)\n",
    "            break\n",
    "    except:\n",
    "        continue"
   ]
  },
  {
   "cell_type": "code",
   "execution_count": 73,
   "metadata": {
    "collapsed": false
   },
   "outputs": [
    {
     "name": "stdout",
     "output_type": "stream",
     "text": [
      "[]\n"
     ]
    }
   ],
   "source": [
    "#Setting up the index on the main stats dataframe\n",
    "mainDFIndex = []\n",
    "for index, row in statsDF.iterrows():\n",
    "    if row.iloc[0] == 'Nene':\n",
    "        mainDFIndex.append(str(row['PLAYER']) + \" \" + str(row['MIN']))\n",
    "    elif row.iloc[0].isalpha() == True and row.iloc[1].isalpha() == True:\n",
    "        mainDFIndex.append(str(row['PLAYER']) + \" \" + str(row['MIN']))\n",
    "print(mainDFIndex)"
   ]
  },
  {
   "cell_type": "code",
   "execution_count": 74,
   "metadata": {
    "collapsed": true
   },
   "outputs": [],
   "source": [
    "#Setup dicts from the DF\n",
    "statsDF_Dict = statsDF.T.to_dict().values()"
   ]
  },
  {
   "cell_type": "code",
   "execution_count": 75,
   "metadata": {
    "collapsed": false
   },
   "outputs": [
    {
     "data": {
      "text/html": [
       "<div>\n",
       "<table border=\"1\" class=\"dataframe\">\n",
       "  <thead>\n",
       "    <tr style=\"text-align: right;\">\n",
       "      <th></th>\n",
       "      <th>PLAYER</th>\n",
       "      <th>MIN</th>\n",
       "      <th>FGM</th>\n",
       "      <th>FGA</th>\n",
       "      <th>FG%</th>\n",
       "      <th>3PM</th>\n",
       "      <th>3PA</th>\n",
       "      <th>3P%</th>\n",
       "      <th>FTM</th>\n",
       "      <th>FTA</th>\n",
       "      <th>...</th>\n",
       "      <th>OREB</th>\n",
       "      <th>DREB</th>\n",
       "      <th>REB</th>\n",
       "      <th>AST</th>\n",
       "      <th>TOV</th>\n",
       "      <th>STL</th>\n",
       "      <th>BLK</th>\n",
       "      <th>PF</th>\n",
       "      <th>PTS</th>\n",
       "      <th>+/-</th>\n",
       "    </tr>\n",
       "  </thead>\n",
       "  <tbody>\n",
       "  </tbody>\n",
       "</table>\n",
       "<p>0 rows × 21 columns</p>\n",
       "</div>"
      ],
      "text/plain": [
       "Empty DataFrame\n",
       "Columns: [PLAYER, MIN, FGM, FGA, FG%, 3PM, 3PA, 3P%, FTM, FTA, FT%, OREB, DREB, REB, AST, TOV, STL, BLK, PF, PTS, +/-]\n",
       "Index: []\n",
       "\n",
       "[0 rows x 21 columns]"
      ]
     },
     "execution_count": 75,
     "metadata": {},
     "output_type": "execute_result"
    }
   ],
   "source": [
    "statsDF"
   ]
  },
  {
   "cell_type": "code",
   "execution_count": 44,
   "metadata": {
    "collapsed": false
   },
   "outputs": [],
   "source": [
    "dict_list = []\n",
    "#Iterate through the statsDF and only return lines with stats or lines where players sat\n",
    "for index, i in enumerate(statsDF_Dict):\n",
    "    if index == 1 or index % 2 != 0:\n",
    "        dict_list.append(i)\n",
    "    "
   ]
  },
  {
   "cell_type": "code",
   "execution_count": 45,
   "metadata": {
    "collapsed": false
   },
   "outputs": [],
   "source": [
    "finalStats = pd.DataFrame(dict_list)\n",
    "finalStats.index = mainDFIndex\n",
    "finalStats.drop(['+/-'], axis=1, inplace=True)\n",
    "finalStats = finalStats.rename(columns={'PLAYER':'MIN','MIN':'FGM', 'FGM':'FGA', 'FGA':'FG%', 'FG%':'3PM', '3PM':'3PA', '3PA':'3P%', '3P%':'FTM', 'FTM':'FTA', 'FTA':'FT%', 'FT%':'OREB', 'OREB':'DREB', 'DREB':'REB', 'REB':'AST', 'AST':'TOV', 'TOV':'BLK', 'BLK':'PF', 'PF':'PTS', 'PTS':'+/-'})\n",
    "#This will replace the nan's with DNP\n",
    "finalStats = finalStats.fillna('NA')\n",
    "finalStats['Player'] = finalStats.index"
   ]
  },
  {
   "cell_type": "code",
   "execution_count": 46,
   "metadata": {
    "collapsed": false
   },
   "outputs": [
    {
     "data": {
      "text/html": [
       "<div>\n",
       "<table border=\"1\" class=\"dataframe\">\n",
       "  <thead>\n",
       "    <tr style=\"text-align: right;\">\n",
       "      <th></th>\n",
       "      <th>FTM</th>\n",
       "      <th>3P%</th>\n",
       "      <th>3PA</th>\n",
       "      <th>TOV</th>\n",
       "      <th>PF</th>\n",
       "      <th>REB</th>\n",
       "      <th>3PM</th>\n",
       "      <th>FG%</th>\n",
       "      <th>FGA</th>\n",
       "      <th>OREB</th>\n",
       "      <th>...</th>\n",
       "      <th>FTA</th>\n",
       "      <th>FGM</th>\n",
       "      <th>DREB</th>\n",
       "      <th>PTS</th>\n",
       "      <th>MIN</th>\n",
       "      <th>+/-</th>\n",
       "      <th>AST</th>\n",
       "      <th>STL</th>\n",
       "      <th>BLK</th>\n",
       "      <th>Player</th>\n",
       "    </tr>\n",
       "  </thead>\n",
       "  <tbody>\n",
       "    <tr>\n",
       "      <th>Wesley Johnson</th>\n",
       "      <td>0</td>\n",
       "      <td>0.0</td>\n",
       "      <td>1</td>\n",
       "      <td>0</td>\n",
       "      <td>1</td>\n",
       "      <td>3</td>\n",
       "      <td>0</td>\n",
       "      <td>0.0</td>\n",
       "      <td>1</td>\n",
       "      <td>0</td>\n",
       "      <td>...</td>\n",
       "      <td>0</td>\n",
       "      <td>0</td>\n",
       "      <td>3</td>\n",
       "      <td>0</td>\n",
       "      <td>18:25</td>\n",
       "      <td>4</td>\n",
       "      <td>1</td>\n",
       "      <td>0</td>\n",
       "      <td>2</td>\n",
       "      <td>Wesley Johnson</td>\n",
       "    </tr>\n",
       "    <tr>\n",
       "      <th>Blake Griffin</th>\n",
       "      <td>6</td>\n",
       "      <td>25.0</td>\n",
       "      <td>8</td>\n",
       "      <td>3</td>\n",
       "      <td>0</td>\n",
       "      <td>4</td>\n",
       "      <td>2</td>\n",
       "      <td>33.3</td>\n",
       "      <td>27</td>\n",
       "      <td>2</td>\n",
       "      <td>...</td>\n",
       "      <td>7</td>\n",
       "      <td>9</td>\n",
       "      <td>2</td>\n",
       "      <td>26</td>\n",
       "      <td>38:29</td>\n",
       "      <td>-13</td>\n",
       "      <td>6</td>\n",
       "      <td>0</td>\n",
       "      <td>1</td>\n",
       "      <td>Blake Griffin</td>\n",
       "    </tr>\n",
       "    <tr>\n",
       "      <th>DeAndre Jordan</th>\n",
       "      <td>0</td>\n",
       "      <td>0.0</td>\n",
       "      <td>0</td>\n",
       "      <td>1</td>\n",
       "      <td>3</td>\n",
       "      <td>14</td>\n",
       "      <td>0</td>\n",
       "      <td>85.7</td>\n",
       "      <td>7</td>\n",
       "      <td>2</td>\n",
       "      <td>...</td>\n",
       "      <td>1</td>\n",
       "      <td>6</td>\n",
       "      <td>12</td>\n",
       "      <td>12</td>\n",
       "      <td>37:06</td>\n",
       "      <td>-5</td>\n",
       "      <td>0</td>\n",
       "      <td>0</td>\n",
       "      <td>2</td>\n",
       "      <td>DeAndre Jordan</td>\n",
       "    </tr>\n",
       "    <tr>\n",
       "      <th>Sindarius Thornwell</th>\n",
       "      <td>2</td>\n",
       "      <td>50.0</td>\n",
       "      <td>2</td>\n",
       "      <td>2</td>\n",
       "      <td>5</td>\n",
       "      <td>2</td>\n",
       "      <td>1</td>\n",
       "      <td>40.0</td>\n",
       "      <td>5</td>\n",
       "      <td>2</td>\n",
       "      <td>...</td>\n",
       "      <td>2</td>\n",
       "      <td>2</td>\n",
       "      <td>0</td>\n",
       "      <td>7</td>\n",
       "      <td>31:52</td>\n",
       "      <td>-9</td>\n",
       "      <td>2</td>\n",
       "      <td>0</td>\n",
       "      <td>2</td>\n",
       "      <td>Sindarius Thornwell</td>\n",
       "    </tr>\n",
       "    <tr>\n",
       "      <th>Austin Rivers</th>\n",
       "      <td>0</td>\n",
       "      <td>55.6</td>\n",
       "      <td>9</td>\n",
       "      <td>2</td>\n",
       "      <td>4</td>\n",
       "      <td>3</td>\n",
       "      <td>5</td>\n",
       "      <td>38.9</td>\n",
       "      <td>18</td>\n",
       "      <td>1</td>\n",
       "      <td>...</td>\n",
       "      <td>0</td>\n",
       "      <td>7</td>\n",
       "      <td>2</td>\n",
       "      <td>19</td>\n",
       "      <td>34:21</td>\n",
       "      <td>-3</td>\n",
       "      <td>2</td>\n",
       "      <td>0</td>\n",
       "      <td>2</td>\n",
       "      <td>Austin Rivers</td>\n",
       "    </tr>\n",
       "  </tbody>\n",
       "</table>\n",
       "<p>5 rows × 21 columns</p>\n",
       "</div>"
      ],
      "text/plain": [
       "                    FTM   3P% 3PA TOV PF REB 3PM   FG% FGA OREB  \\\n",
       "Wesley Johnson        0   0.0   1   0  1   3   0   0.0   1    0   \n",
       "Blake Griffin         6  25.0   8   3  0   4   2  33.3  27    2   \n",
       "DeAndre Jordan        0   0.0   0   1  3  14   0  85.7   7    2   \n",
       "Sindarius Thornwell   2  50.0   2   2  5   2   1  40.0   5    2   \n",
       "Austin Rivers         0  55.6   9   2  4   3   5  38.9  18    1   \n",
       "\n",
       "                            ...          FTA FGM DREB PTS    MIN  +/- AST STL  \\\n",
       "Wesley Johnson              ...            0   0    3   0  18:25    4   1   0   \n",
       "Blake Griffin               ...            7   9    2  26  38:29  -13   6   0   \n",
       "DeAndre Jordan              ...            1   6   12  12  37:06   -5   0   0   \n",
       "Sindarius Thornwell         ...            2   2    0   7  31:52   -9   2   0   \n",
       "Austin Rivers               ...            0   7    2  19  34:21   -3   2   0   \n",
       "\n",
       "                    BLK               Player  \n",
       "Wesley Johnson        2       Wesley Johnson  \n",
       "Blake Griffin         1        Blake Griffin  \n",
       "DeAndre Jordan        2       DeAndre Jordan  \n",
       "Sindarius Thornwell   2  Sindarius Thornwell  \n",
       "Austin Rivers         2        Austin Rivers  \n",
       "\n",
       "[5 rows x 21 columns]"
      ]
     },
     "execution_count": 46,
     "metadata": {},
     "output_type": "execute_result"
    }
   ],
   "source": [
    "finalStats.head()"
   ]
  },
  {
   "cell_type": "code",
   "execution_count": 47,
   "metadata": {
    "collapsed": false
   },
   "outputs": [],
   "source": [
    "#GAMES CELL: This prepares the games section into a dataframe\n",
    "#Passing in csv file and getting rid of the unused rows\n",
    "gamesDF = pd.read_csv(games, header= None, names=['a','b','c','d','e','f','g','h','i'], index_col=False, error_bad_lines=False, delim_whitespace=True)\n",
    "gamesDF.columns = [col.replace(',', '') for col in gamesDF.columns]\n",
    "#if you want to operate on multiple columns, put them in a list like so:\n",
    "games_cols = ['a','b','c','d','e','f','g','h','i']\n",
    "# pass them to df.replace(), specifying each char and it's replacement:\n",
    "gamesDF[games_cols] = gamesDF[games_cols].replace({'\\$': '', ',': ''}, regex=True)\n",
    "# This will add the winner to column b of each 26th row\n",
    "for index, row in gamesDF.iterrows():\n",
    "    if index % 26 == 0 or index == 0:\n",
    "        if int(gamesDF['a'].iloc[index+4]) > int(gamesDF['a'].iloc[index + 8]):\n",
    "            gamesDF['b'].iloc[index] = gamesDF['a'].iloc[index + 1]\n",
    "        else:\n",
    "            gamesDF['b'].iloc[index] = gamesDF['a'].iloc[index + 5]\n",
    "    else:\n",
    "        pass"
   ]
  },
  {
   "cell_type": "code",
   "execution_count": 48,
   "metadata": {
    "collapsed": false
   },
   "outputs": [
    {
     "data": {
      "text/html": [
       "<div>\n",
       "<table border=\"1\" class=\"dataframe\">\n",
       "  <thead>\n",
       "    <tr style=\"text-align: right;\">\n",
       "      <th></th>\n",
       "      <th>Home</th>\n",
       "      <th>Away</th>\n",
       "      <th>W/L</th>\n",
       "      <th>1st Qtr H</th>\n",
       "      <th>2nd Qtr H</th>\n",
       "      <th>3rd Qtr H</th>\n",
       "      <th>4th Qtr H</th>\n",
       "      <th>1st Qtr A</th>\n",
       "      <th>2nd Qtr A</th>\n",
       "      <th>3rd Qtr A</th>\n",
       "      <th>4th Qtr A</th>\n",
       "      <th>Total H</th>\n",
       "      <th>Total A</th>\n",
       "      <th>Ref1</th>\n",
       "      <th>Ref2</th>\n",
       "      <th>Ref3</th>\n",
       "    </tr>\n",
       "  </thead>\n",
       "  <tbody>\n",
       "    <tr>\n",
       "      <th>0</th>\n",
       "      <td>LAC</td>\n",
       "      <td>NOP</td>\n",
       "      <td>NEW</td>\n",
       "      <td>26</td>\n",
       "      <td>32</td>\n",
       "      <td>24</td>\n",
       "      <td>21</td>\n",
       "      <td>31</td>\n",
       "      <td>32</td>\n",
       "      <td>25</td>\n",
       "      <td>23</td>\n",
       "      <td>111</td>\n",
       "      <td>103</td>\n",
       "      <td>Guthrie\"\"</td>\n",
       "      <td>Cutler\"\"</td>\n",
       "      <td>Smith</td>\n",
       "    </tr>\n",
       "  </tbody>\n",
       "</table>\n",
       "</div>"
      ],
      "text/plain": [
       "  Home Away  W/L 1st Qtr H 2nd Qtr H 3rd Qtr H 4th Qtr H 1st Qtr A 2nd Qtr A  \\\n",
       "0  LAC  NOP  NEW        26        32        24        21        31        32   \n",
       "\n",
       "  3rd Qtr A 4th Qtr A Total H Total A       Ref1      Ref2   Ref3  \n",
       "0        25        23     111     103  Guthrie\"\"  Cutler\"\"  Smith  "
      ]
     },
     "execution_count": 48,
     "metadata": {},
     "output_type": "execute_result"
    }
   ],
   "source": [
    "#This cell will arrange the gamesDF into the actual formatted games dataframe, newGamesDF\n",
    "#The next lines will pull the data from the cells in the gamesDF and into the newGamesDF dataframe\n",
    "gamesData = []\n",
    "games = 0\n",
    "for index, row in gamesDF.iterrows():\n",
    "    if index == 0 or index % 26 == 0:\n",
    "        gamesData.append(gamesDF.iloc[index+11,0])\n",
    "        gamesData.append(gamesDF.iloc[index+12,0])\n",
    "        gamesData.append(gamesDF.iloc[index,1])\n",
    "        gamesData.append(gamesDF.iloc[index+11,1])\n",
    "        gamesData.append(gamesDF.iloc[index+11,2])\n",
    "        gamesData.append(gamesDF.iloc[index+11,3])\n",
    "        gamesData.append(gamesDF.iloc[index+11,4])\n",
    "        gamesData.append(gamesDF.iloc[index+12,1])\n",
    "        gamesData.append(gamesDF.iloc[index+12,2])\n",
    "        gamesData.append(gamesDF.iloc[index+12,3])\n",
    "        gamesData.append(gamesDF.iloc[index+12,4])\n",
    "        gamesData.append(gamesDF.iloc[index+8,0])\n",
    "        gamesData.append(gamesDF.iloc[index+4,0])\n",
    "        gamesData.append(gamesDF.iloc[index+22,2])\n",
    "        gamesData.append(gamesDF.iloc[index+22,4])\n",
    "        gamesData.append(gamesDF.iloc[index+22,6])\n",
    "        games += 1\n",
    "        \n",
    "gamesData = np.array(gamesData)\n",
    "gamesData = gamesData.reshape(games,16)\n",
    "#Create an empty dataframe, based on the games date as the index\n",
    "newGamesDF = pd.DataFrame(data = gamesData, columns=['Home','Away','W/L','1st Qtr H','2nd Qtr H','3rd Qtr H','4th Qtr H','1st Qtr A','2nd Qtr A','3rd Qtr A','4th Qtr A','Total H','Total A', 'Ref1','Ref2','Ref3'])\n",
    "newGamesDF"
   ]
  },
  {
   "cell_type": "code",
   "execution_count": 49,
   "metadata": {
    "collapsed": false
   },
   "outputs": [],
   "source": [
    "for index,row in finalStats.iterrows():\n",
    "    finalStats['1st Qtr H'] = newGamesDF['1st Qtr H'][0]\n",
    "    finalStats['2nd Qtr H'] = newGamesDF['2nd Qtr H'][0]\n",
    "    finalStats['3rd Qtr H'] = newGamesDF['3rd Qtr H'][0]\n",
    "    finalStats['4th Qtr H'] = newGamesDF['4th Qtr H'][0]\n",
    "    finalStats['1st Qtr A'] = newGamesDF['1st Qtr A'][0]\n",
    "    finalStats['2nd Qtr A'] = newGamesDF['2nd Qtr A'][0]\n",
    "    finalStats['3rd Qtr A'] = newGamesDF['3rd Qtr A'][0]\n",
    "    finalStats['4th Qtr A'] = newGamesDF['4th Qtr A'][0]\n",
    "    finalStats['Total H'] = newGamesDF['Total H'][0]\n",
    "    finalStats['Total A'] = newGamesDF['Total A'][0]\n",
    "    finalStats['Ref1'] = newGamesDF['Ref1'][0]\n",
    "    finalStats['Ref2'] = newGamesDF['Ref2'][0]\n",
    "    finalStats['Ref3'] = newGamesDF['Ref3'][0]\n",
    "    finalStats['W/L'] = newGamesDF['W/L'][0]\n",
    "    finalStats['Home'] = newGamesDF['Home'][0]\n",
    "    finalStats['Away'] = newGamesDF['Away'][0]\n",
    "    "
   ]
  },
  {
   "cell_type": "code",
   "execution_count": 50,
   "metadata": {
    "collapsed": false
   },
   "outputs": [],
   "source": [
    "#This function will calculate the projected fantasy points per game\n",
    "def fantasy_points(row):\n",
    "    try:\n",
    "        score = (int(row['3PM']) * 3) + (int(row['FGM']) * 2) + (int(row['REB']) * 1) + (int(row['AST']) * 1.5) + (int(row['BLK']) * 3) + (int(row['STL']) * 3) + (int(row['TOV']) * -1)\n",
    "        return score\n",
    "    except:\n",
    "        pass\n",
    "\n",
    "finalStats['Fantasy Score'] = finalStats.apply(fantasy_points, axis=1)\n",
    "finalStats = finalStats.fillna('NA')"
   ]
  },
  {
   "cell_type": "code",
   "execution_count": 51,
   "metadata": {
    "collapsed": false
   },
   "outputs": [
    {
     "data": {
      "text/plain": [
       "Index(['Wesley Johnson', 'Blake Griffin', 'DeAndre Jordan',\n",
       "       'Sindarius Thornwell', 'Austin Rivers', 'Lou Williams', 'Jawun Evans',\n",
       "       'Willie Reed', 'Montrezl Harrell', 'Brice Johnson', 'Sam Dekker',\n",
       "       'Danilo Gallinari', 'CJ Williams', 'Dante Cunningham', 'Anthony Davis',\n",
       "       'DeMarcus Cousins', 'ETwaun Moore', 'Jrue Holiday', 'Jameer Nelson',\n",
       "       'Darius Miller', 'Cheick Diallo', 'Ian Clark', 'Tony Allen',\n",
       "       'Charles Cooke', 'Jalen Jones', 'Rajon Rondo'],\n",
       "      dtype='object')"
      ]
     },
     "execution_count": 51,
     "metadata": {},
     "output_type": "execute_result"
    }
   ],
   "source": [
    "finalStats.index"
   ]
  },
  {
   "cell_type": "code",
   "execution_count": null,
   "metadata": {
    "collapsed": true
   },
   "outputs": [],
   "source": []
  },
  {
   "cell_type": "code",
   "execution_count": null,
   "metadata": {
    "collapsed": true
   },
   "outputs": [],
   "source": []
  },
  {
   "cell_type": "code",
   "execution_count": null,
   "metadata": {
    "collapsed": true
   },
   "outputs": [],
   "source": []
  }
 ],
 "metadata": {
  "kernelspec": {
   "display_name": "Python 3",
   "language": "python",
   "name": "python3"
  },
  "language_info": {
   "codemirror_mode": {
    "name": "ipython",
    "version": 3
   },
   "file_extension": ".py",
   "mimetype": "text/x-python",
   "name": "python",
   "nbconvert_exporter": "python",
   "pygments_lexer": "ipython3",
   "version": "3.5.2"
  }
 },
 "nbformat": 4,
 "nbformat_minor": 2
}
