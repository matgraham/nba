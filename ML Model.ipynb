{
 "cells": [
  {
   "cell_type": "code",
   "execution_count": 1,
   "metadata": {
    "collapsed": false
   },
   "outputs": [
    {
     "ename": "ImportError",
     "evalue": "No module named 'ray'",
     "output_type": "error",
     "traceback": [
      "\u001b[0;31m---------------------------------------------------------------------------\u001b[0m",
      "\u001b[0;31mImportError\u001b[0m                               Traceback (most recent call last)",
      "\u001b[0;32m<ipython-input-1-9b2b1957191a>\u001b[0m in \u001b[0;36m<module>\u001b[0;34m()\u001b[0m\n\u001b[1;32m      1\u001b[0m \u001b[0;32mimport\u001b[0m \u001b[0mnumpy\u001b[0m \u001b[0;32mas\u001b[0m \u001b[0mnp\u001b[0m\u001b[0;34m\u001b[0m\u001b[0m\n\u001b[0;32m----> 2\u001b[0;31m \u001b[0;32mimport\u001b[0m \u001b[0mray\u001b[0m\u001b[0;34m.\u001b[0m\u001b[0mdataframe\u001b[0m \u001b[0;32mas\u001b[0m \u001b[0mpd\u001b[0m\u001b[0;34m\u001b[0m\u001b[0m\n\u001b[0m\u001b[1;32m      3\u001b[0m \u001b[0;32mimport\u001b[0m \u001b[0mseaborn\u001b[0m \u001b[0;32mas\u001b[0m \u001b[0msns\u001b[0m\u001b[0;34m\u001b[0m\u001b[0m\n\u001b[1;32m      4\u001b[0m \u001b[0;32mimport\u001b[0m \u001b[0mmatplotlib\u001b[0m\u001b[0;34m.\u001b[0m\u001b[0mpyplot\u001b[0m \u001b[0;32mas\u001b[0m \u001b[0mplt\u001b[0m\u001b[0;34m\u001b[0m\u001b[0m\n\u001b[1;32m      5\u001b[0m \u001b[0mget_ipython\u001b[0m\u001b[0;34m(\u001b[0m\u001b[0;34m)\u001b[0m\u001b[0;34m.\u001b[0m\u001b[0mmagic\u001b[0m\u001b[0;34m(\u001b[0m\u001b[0;34m'matplotlib inline'\u001b[0m\u001b[0;34m)\u001b[0m\u001b[0;34m\u001b[0m\u001b[0m\n",
      "\u001b[0;31mImportError\u001b[0m: No module named 'ray'"
     ]
    }
   ],
   "source": [
    "import numpy as np\n",
    "import ray.dataframe as pd\n",
    "import seaborn as sns\n",
    "import matplotlib.pyplot as plt\n",
    "%matplotlib inline"
   ]
  },
  {
   "cell_type": "code",
   "execution_count": 2,
   "metadata": {
    "collapsed": true
   },
   "outputs": [],
   "source": [
    "df = pd.read_csv('data.csv')"
   ]
  },
  {
   "cell_type": "code",
   "execution_count": 13,
   "metadata": {
    "collapsed": false
   },
   "outputs": [
    {
     "data": {
      "text/plain": [
       "0         Gordon Hayward\n",
       "1           Jayson Tatum\n",
       "2             Al Horford\n",
       "3           Jaylen Brown\n",
       "4           Kyrie Irving\n",
       "5           Marcus Smart\n",
       "6            Aron Baynes\n",
       "7           Semi Ojeleye\n",
       "8           Terry Rozier\n",
       "9           Shane Larkin\n",
       "10           Abdel Nader\n",
       "11          Daniel Theis\n",
       "12          LeBron James\n",
       "13           Jae Crowder\n",
       "14            Kevin Love\n",
       "15           Dwyane Wade\n",
       "16          Derrick Rose\n",
       "17      Tristan Thompson\n",
       "18              JR Smith\n",
       "19         Iman Shumpert\n",
       "20            Jeff Green\n",
       "21           Kyle Korver\n",
       "22         Jose Calderon\n",
       "23         Channing Frye\n",
       "24            Cedi Osman\n",
       "25          Trevor Ariza\n",
       "26         Ryan Anderson\n",
       "27          Clint Capela\n",
       "28          James Harden\n",
       "29            Chris Paul\n",
       "             ...        \n",
       "99               TJ Leaf\n",
       "100         Ike Anigbogu\n",
       "101         Al Jefferson\n",
       "102            Joe Young\n",
       "103      Josh Richardson\n",
       "104         Kelly Olynyk\n",
       "105     Hassan Whiteside\n",
       "106         Dion Waiters\n",
       "107         Goran Dragic\n",
       "108        Tyler Johnson\n",
       "109        James Johnson\n",
       "110      Justise Winslow\n",
       "111          Bam Adebayo\n",
       "112      Wayne Ellington\n",
       "113        Udonis Haslem\n",
       "114        Jordan Mickey\n",
       "115        Matt Williams\n",
       "116        Evan Fournier\n",
       "117         Aaron Gordon\n",
       "118       Nikola Vucevic\n",
       "119        Terrence Ross\n",
       "120        Elfrid Payton\n",
       "121     Jonathon Simmons\n",
       "122      Bismack Biyombo\n",
       "123       Jonathan Isaac\n",
       "124        D.J. Augustin\n",
       "125        Arron Afflalo\n",
       "126        Mario Hezonja\n",
       "127         Shelvin Mack\n",
       "128    Marreese Speights\n",
       "Name: Player, dtype: object"
      ]
     },
     "execution_count": 13,
     "metadata": {},
     "output_type": "execute_result"
    }
   ],
   "source": []
  },
  {
   "cell_type": "code",
   "execution_count": null,
   "metadata": {
    "collapsed": true
   },
   "outputs": [],
   "source": []
  }
 ],
 "metadata": {
  "kernelspec": {
   "display_name": "Python 3",
   "language": "python",
   "name": "python3"
  },
  "language_info": {
   "codemirror_mode": {
    "name": "ipython",
    "version": 3
   },
   "file_extension": ".py",
   "mimetype": "text/x-python",
   "name": "python",
   "nbconvert_exporter": "python",
   "pygments_lexer": "ipython3",
   "version": "3.5.2"
  }
 },
 "nbformat": 4,
 "nbformat_minor": 2
}
