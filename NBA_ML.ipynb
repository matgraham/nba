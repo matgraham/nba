{
 "cells": [
  {
   "cell_type": "code",
   "execution_count": 1,
   "metadata": {
    "collapsed": true
   },
   "outputs": [],
   "source": [
    "import pandas as pd\n",
    "import numpy as np\n",
    "import itertools"
   ]
  },
  {
   "cell_type": "code",
   "execution_count": 2,
   "metadata": {
    "collapsed": true
   },
   "outputs": [],
   "source": [
    "#statsDF - initial stats dataframe\n",
    "#gamesDF - initial games dataframe\n",
    "#newGamesDF - formatted games dataframe with game date as index and rest of record in one row\n",
    "#finalStats - formatted stats dataframe with player's name as the index\n",
    "#mainDF: The dataframe where the main analysis will take place."
   ]
  },
  {
   "cell_type": "code",
   "execution_count": 3,
   "metadata": {
    "collapsed": false
   },
   "outputs": [],
   "source": [
    "#Dump the stats dataframe into a csv and clean it up\n",
    "cols = ['PLAYER', 'MIN', 'FGM','FGA', 'FG%', '3PM', '3PA','3P%','FTM','FTA','FT%','OREB','DREB','REB','AST','TOV','STL','BLK','PF','PTS','+/-']\n",
    "statsDF = pd.read_csv('stats.csv', header= None, names=cols, index_col=False, error_bad_lines=False, delim_whitespace=True)\n",
    "statsDF[cols] = statsDF[cols].replace({'\\$': '', ',': ''}, regex=True)"
   ]
  },
  {
   "cell_type": "code",
   "execution_count": 4,
   "metadata": {
    "collapsed": false
   },
   "outputs": [],
   "source": [
    "statsDF = statsDF[statsDF.PLAYER != 'PLAYER']\n",
    "statsDF = statsDF[statsDF.PLAYER != 'Totals:']\n",
    "statsDF = statsDF[statsDF.PLAYER != 'INACTIVE']\n",
    "statsDF = statsDF.reset_index(drop=True)"
   ]
  },
  {
   "cell_type": "code",
   "execution_count": 5,
   "metadata": {
    "collapsed": false
   },
   "outputs": [],
   "source": [
    "home_city = []\n",
    "flag = 0\n",
    "away_player_count = 0\n",
    "for index,row in statsDF.iterrows():\n",
    "    if row[0] == 'DNP':\n",
    "        flag = 1\n",
    "    else:\n",
    "        if statsDF.iloc[index + 1][0] == 'DNP':\n",
    "            continue\n",
    "        elif flag == 1:\n",
    "            home_city.append(row[0])\n",
    "            if index % 2 == 0:\n",
    "                home_city.append(statsDF.iloc[-1][0])\n",
    "                away_city = [statsDF.iloc[0][0],statsDF.iloc[-2][0]]\n",
    "                statsDF = statsDF[statsDF.PLAYER != home_city[1]]\n",
    "                statsDF = statsDF[statsDF.PLAYER != away_city[0]]\n",
    "                statsDF = statsDF[statsDF.PLAYER != away_city[1]]\n",
    "                statsDF = statsDF.reset_index(drop=True)\n",
    "                away_player_count = statsDF.index[index] / 2\n",
    "                break\n",
    "            else:\n",
    "                home_city.append(statsDF.iloc[-1][0])\n",
    "                away_city = [statsDF.iloc[0][0],statsDF.iloc[-2][0]]\n",
    "                statsDF = statsDF[statsDF.PLAYER != home_city[0]]\n",
    "                statsDF = statsDF[statsDF.PLAYER != home_city[1]]\n",
    "                statsDF = statsDF[statsDF.PLAYER != away_city[0]]\n",
    "                statsDF = statsDF[statsDF.PLAYER != away_city[1]]\n",
    "                statsDF = statsDF.reset_index(drop=True)\n",
    "                away_player_count = int(statsDF.index[index] / 2)\n",
    "                break\n",
    "        else:\n",
    "            continue\n"
   ]
  },
  {
   "cell_type": "code",
   "execution_count": 6,
   "metadata": {
    "collapsed": false
   },
   "outputs": [
    {
     "name": "stdout",
     "output_type": "stream",
     "text": [
      "['Gordon Hayward', 'Jayson Tatum', 'Al Horford', 'Jaylen Brown', 'Kyrie Irving', 'Marcus Smart', 'Aron Baynes', 'Semi Ojeleye', 'Terry Rozier', 'Shane Larkin', 'Abdel Nader', 'Daniel Theis', 'LeBron James', 'Jae Crowder', 'Kevin Love', 'Dwyane Wade', 'Derrick Rose', 'Tristan Thompson', 'JR Smith', 'Iman Shumpert', 'Jeff Green', 'Kyle Korver', 'Jose Calderon', 'Channing Frye', 'Cedi Osman']\n"
     ]
    }
   ],
   "source": [
    "#Setting up the index on the main stats dataframe\n",
    "mainDFIndex = []\n",
    "for index, row in statsDF.iterrows():\n",
    "    if index % 2 == 0:\n",
    "        mainDFIndex.append(str(row['PLAYER']) + \" \" + str(row['MIN']))\n",
    "print(mainDFIndex)"
   ]
  },
  {
   "cell_type": "code",
   "execution_count": 9,
   "metadata": {
    "collapsed": false
   },
   "outputs": [],
   "source": [
    "#Setup dicts with the sub categories\n",
    "newDict = dict()\n",
    "something = statsDF.T.to_dict().values()\n",
    "pos = ''\n",
    "for index, i in enumerate(something):\n",
    "    if index % 2 != 0:\n",
    "        newDict[index] = i\n",
    "        newDict[index]['POS'] = pos\n",
    "    else:\n",
    "        if i['FGM'] == 'nan':\n",
    "            continue\n",
    "        else:\n",
    "            pos = i['FGM']\n",
    "\n",
    "\n",
    "finalStats = pd.DataFrame.from_dict(newDict,orient='index')\n",
    "#finalStats.index = mainDFIndex\n",
    "finalStats.drop(['+/-'], axis=1, inplace=True)\n",
    "finalStats = finalStats.rename(columns={'PLAYER':'MIN','MIN':'FGM', 'FGM':'FGA', 'FGA':'FG%', 'FG%':'3PM', '3PM':'3PA', '3PA':'3P%', '3P%':'FTM', 'FTM':'FTA', 'FTA':'FT%', 'FT%':'OREB', 'OREB':'DREB', 'DREB':'REB', 'REB':'AST', 'AST':'TOV', 'TOV':'BLK', 'BLK':'PF', 'PF':'PTS', 'PTS':'+/-'})\n",
    "player_count = len(finalStats.index)\n",
    "teams_list = ((away_city[0] + \" \") * away_player_count) + ((home_city[0] + \" \") * (player_count - away_player_count))\n",
    "teams_list = teams_list.split()\n",
    "opponent_list = ((home_city[0] + \" \") * away_player_count) + ((away_city[0] + \" \") * (player_count - away_player_count))\n",
    "opponent_list = opponent_list.split()\n",
    "finalStats['Player'] = mainDFIndex\n",
    "finalStats['TEAM'] = teams_list\n",
    "finalStats['OPPONENT'] = opponent_list\n",
    "#This will replace the nan's with DNP\n",
    "finalStats = finalStats.fillna('NA')"
   ]
  },
  {
   "cell_type": "code",
   "execution_count": 11,
   "metadata": {
    "collapsed": true
   },
   "outputs": [],
   "source": [
    "#GAMES CELL: This prepares the games section into a dataframe\n",
    "#Passing in csv file and getting rid of the unused rows\n",
    "gamesDF = pd.read_csv('games.csv', header= None, names=['a','b','c','d','e','f','g','h','i'], index_col=False, error_bad_lines=False, delim_whitespace=True)\n",
    "gamesDF.columns = [col.replace(',', '') for col in gamesDF.columns]\n",
    "#if you want to operate on multiple columns, put them in a list like so:\n",
    "games_cols = ['a','b','c','d','e','f','g','h','i']\n",
    "# pass them to df.replace(), specifying each char and it's replacement:\n",
    "gamesDF[games_cols] = gamesDF[games_cols].replace({'\\$': '', ',': ''}, regex=True)\n",
    "# This will add the winner to column b of each 26th row\n",
    "for index, row in gamesDF.iterrows():\n",
    "    if index % 26 == 0 or index == 0:\n",
    "        if int(gamesDF['a'].iloc[index+4]) > int(gamesDF['a'].iloc[index + 8]):\n",
    "            gamesDF['b'].iloc[index] = gamesDF['a'].iloc[index + 1]\n",
    "        else:\n",
    "            gamesDF['b'].iloc[index] = gamesDF['a'].iloc[index + 5]\n",
    "    else:\n",
    "        pass"
   ]
  },
  {
   "cell_type": "code",
   "execution_count": 12,
   "metadata": {
    "collapsed": false
   },
   "outputs": [
    {
     "data": {
      "text/html": [
       "<div>\n",
       "<table border=\"1\" class=\"dataframe\">\n",
       "  <thead>\n",
       "    <tr style=\"text-align: right;\">\n",
       "      <th></th>\n",
       "      <th>Home</th>\n",
       "      <th>Away</th>\n",
       "      <th>W/L</th>\n",
       "      <th>1st Qtr H</th>\n",
       "      <th>2nd Qtr H</th>\n",
       "      <th>3rd Qtr H</th>\n",
       "      <th>4th Qtr H</th>\n",
       "      <th>1st Qtr A</th>\n",
       "      <th>2nd Qtr A</th>\n",
       "      <th>3rd Qtr A</th>\n",
       "      <th>4th Qtr A</th>\n",
       "      <th>Total H</th>\n",
       "      <th>Total A</th>\n",
       "      <th>Ref1</th>\n",
       "      <th>Ref2</th>\n",
       "      <th>Ref3</th>\n",
       "    </tr>\n",
       "  </thead>\n",
       "  <tbody>\n",
       "    <tr>\n",
       "      <th>0</th>\n",
       "      <td>BOS</td>\n",
       "      <td>CLE</td>\n",
       "      <td>CLEVELAND</td>\n",
       "      <td>19</td>\n",
       "      <td>19</td>\n",
       "      <td>33</td>\n",
       "      <td>28</td>\n",
       "      <td>29</td>\n",
       "      <td>25</td>\n",
       "      <td>18</td>\n",
       "      <td>30</td>\n",
       "      <td>102</td>\n",
       "      <td>99</td>\n",
       "      <td>McCutchen\"\"</td>\n",
       "      <td>Smith\"\"</td>\n",
       "      <td>Forte</td>\n",
       "    </tr>\n",
       "  </tbody>\n",
       "</table>\n",
       "</div>"
      ],
      "text/plain": [
       "  Home Away        W/L 1st Qtr H 2nd Qtr H 3rd Qtr H 4th Qtr H 1st Qtr A  \\\n",
       "0  BOS  CLE  CLEVELAND        19        19        33        28        29   \n",
       "\n",
       "  2nd Qtr A 3rd Qtr A 4th Qtr A Total H Total A         Ref1     Ref2   Ref3  \n",
       "0        25        18        30     102      99  McCutchen\"\"  Smith\"\"  Forte  "
      ]
     },
     "execution_count": 12,
     "metadata": {},
     "output_type": "execute_result"
    }
   ],
   "source": [
    "#This cell will arrange the gamesDF into the actual formatted games dataframe, newGamesDF\n",
    "#Setting up the index on the main stats dataframe\n",
    "dateIndex = []\n",
    "month = ['OCT', 'NOV', 'DEC', 'JAN', 'FEB']\n",
    "for index, row in gamesDF.iterrows():\n",
    "    for i in month:\n",
    "        if gamesDF.iloc[index][0] == i:\n",
    "            dateIndex.append(gamesDF.iloc[9,0] + \" \" + gamesDF.iloc[9,1][1] + \", \" + gamesDF.iloc[9,2])\n",
    "#The next lines will pull the data from the cells in the gamesDF and into the newGamesDF dataframe\n",
    "gamesData = []\n",
    "games = 0\n",
    "for index, row in gamesDF.iterrows():\n",
    "    if index == 0 or index % 26 == 0:\n",
    "        gamesData.append(gamesDF.iloc[index+11,0])\n",
    "        gamesData.append(gamesDF.iloc[index+12,0])\n",
    "        gamesData.append(gamesDF.iloc[index,1])\n",
    "        gamesData.append(gamesDF.iloc[index+11,1])\n",
    "        gamesData.append(gamesDF.iloc[index+11,2])\n",
    "        gamesData.append(gamesDF.iloc[index+11,3])\n",
    "        gamesData.append(gamesDF.iloc[index+11,4])\n",
    "        gamesData.append(gamesDF.iloc[index+12,1])\n",
    "        gamesData.append(gamesDF.iloc[index+12,2])\n",
    "        gamesData.append(gamesDF.iloc[index+12,3])\n",
    "        gamesData.append(gamesDF.iloc[index+12,4])\n",
    "        gamesData.append(gamesDF.iloc[index+8,0])\n",
    "        gamesData.append(gamesDF.iloc[index+4,0])\n",
    "        gamesData.append(gamesDF.iloc[index+22,2])\n",
    "        gamesData.append(gamesDF.iloc[index+22,4])\n",
    "        gamesData.append(gamesDF.iloc[index+22,6])\n",
    "        games += 1\n",
    "        \n",
    "gamesData = np.array(gamesData)\n",
    "gamesData = gamesData.reshape(games,16)\n",
    "#Create an empty dataframe, based on the games date as the index\n",
    "newGamesDF = pd.DataFrame(data = gamesData, columns=['Home','Away','W/L','1st Qtr H','2nd Qtr H','3rd Qtr H','4th Qtr H','1st Qtr A','2nd Qtr A','3rd Qtr A','4th Qtr A','Total H','Total A', 'Ref1','Ref2','Ref3'])\n",
    "newGamesDF"
   ]
  },
  {
   "cell_type": "code",
   "execution_count": 14,
   "metadata": {
    "collapsed": false
   },
   "outputs": [],
   "source": [
    "for index,row in finalStats.iterrows():\n",
    "    finalStats['1st Qtr H'] = newGamesDF['1st Qtr H'][0]\n",
    "    finalStats['2nd Qtr H'] = newGamesDF['2nd Qtr H'][0]\n",
    "    finalStats['3rd Qtr H'] = newGamesDF['3rd Qtr H'][0]\n",
    "    finalStats['4th Qtr H'] = newGamesDF['4th Qtr H'][0]\n",
    "    finalStats['1st Qtr A'] = newGamesDF['1st Qtr A'][0]\n",
    "    finalStats['2nd Qtr A'] = newGamesDF['2nd Qtr A'][0]\n",
    "    finalStats['3rd Qtr A'] = newGamesDF['3rd Qtr A'][0]\n",
    "    finalStats['4th Qtr A'] = newGamesDF['4th Qtr A'][0]\n",
    "    finalStats['Total H'] = newGamesDF['Total H'][0]\n",
    "    finalStats['Total A'] = newGamesDF['Total A'][0]\n",
    "    finalStats['Ref1'] = newGamesDF['Ref1'][0]\n",
    "    finalStats['Ref2'] = newGamesDF['Ref2'][0]\n",
    "    finalStats['Ref3'] = newGamesDF['Ref3'][0]\n",
    "    finalStats['W/L'] = newGamesDF['W/L'][0]\n",
    "    finalStats['Home'] = newGamesDF['Home'][0]\n",
    "    finalStats['Away'] = newGamesDF['Away'][0]\n",
    "    "
   ]
  },
  {
   "cell_type": "code",
   "execution_count": 20,
   "metadata": {
    "collapsed": false
   },
   "outputs": [],
   "source": [
    "#This function will calculate the projected fantasy points per game\n",
    "def fantasy_points(row):\n",
    "    try:\n",
    "        score = (int(row['3PM']) * 3) + (int(row['FGM']) * 2) + (int(row['REB']) * 1) + (int(row['AST']) * 1.5) + (int(row['BLK']) * 3) + (int(row['STL']) * 3) + (int(row['TOV']) * -1)\n",
    "        return score\n",
    "    except:\n",
    "        pass\n",
    "\n",
    "finalStats['Fantasy Score'] = finalStats.apply(fantasy_points, axis=1)\n",
    "finalStats = finalStats.fillna('NA')"
   ]
  },
  {
   "cell_type": "code",
   "execution_count": 22,
   "metadata": {
    "collapsed": false
   },
   "outputs": [
    {
     "name": "stdout",
     "output_type": "stream",
     "text": [
      "<class 'pandas.core.frame.DataFrame'>\n",
      "Int64Index: 25 entries, 1 to 49\n",
      "Data columns (total 41 columns):\n",
      "FG%              25 non-null object\n",
      "AST              25 non-null object\n",
      "TOV              25 non-null object\n",
      "OREB             25 non-null object\n",
      "PF               25 non-null object\n",
      "STL              25 non-null object\n",
      "3PA              25 non-null object\n",
      "FTA              25 non-null object\n",
      "3P%              25 non-null object\n",
      "+/-              25 non-null object\n",
      "POS              25 non-null object\n",
      "DREB             25 non-null object\n",
      "FT%              25 non-null object\n",
      "FTM              25 non-null object\n",
      "FGM              25 non-null object\n",
      "MIN              25 non-null object\n",
      "BLK              25 non-null object\n",
      "FGA              25 non-null object\n",
      "PTS              25 non-null object\n",
      "3PM              25 non-null object\n",
      "REB              25 non-null object\n",
      "Player           25 non-null object\n",
      "TEAM             25 non-null object\n",
      "OPPONENT         25 non-null object\n",
      "1st Qtr H        25 non-null object\n",
      "2nd Qtr H        25 non-null object\n",
      "3rd Qtr H        25 non-null object\n",
      "4th Qtr H        25 non-null object\n",
      "1st Qtr A        25 non-null object\n",
      "2nd Qtr A        25 non-null object\n",
      "3rd Qtr A        25 non-null object\n",
      "4th Qtr A        25 non-null object\n",
      "Total H          25 non-null object\n",
      "Total A          25 non-null object\n",
      "Ref1             25 non-null object\n",
      "Ref2             25 non-null object\n",
      "Ref3             25 non-null object\n",
      "W/L              25 non-null object\n",
      "Home             25 non-null object\n",
      "Away             25 non-null object\n",
      "Fantasy Score    25 non-null object\n",
      "dtypes: object(41)\n",
      "memory usage: 8.2+ KB\n"
     ]
    }
   ],
   "source": [
    "finalStats.info()"
   ]
  },
  {
   "cell_type": "code",
   "execution_count": null,
   "metadata": {
    "collapsed": true
   },
   "outputs": [],
   "source": []
  },
  {
   "cell_type": "code",
   "execution_count": null,
   "metadata": {
    "collapsed": true
   },
   "outputs": [],
   "source": []
  }
 ],
 "metadata": {
  "kernelspec": {
   "display_name": "Python 3",
   "language": "python",
   "name": "python3"
  },
  "language_info": {
   "codemirror_mode": {
    "name": "ipython",
    "version": 3
   },
   "file_extension": ".py",
   "mimetype": "text/x-python",
   "name": "python",
   "nbconvert_exporter": "python",
   "pygments_lexer": "ipython3",
   "version": "3.5.2"
  }
 },
 "nbformat": 4,
 "nbformat_minor": 2
}
