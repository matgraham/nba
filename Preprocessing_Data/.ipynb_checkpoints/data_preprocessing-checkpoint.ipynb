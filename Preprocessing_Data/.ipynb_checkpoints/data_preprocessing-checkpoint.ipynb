{
 "cells": [
  {
   "cell_type": "code",
   "execution_count": 2,
   "metadata": {},
   "outputs": [],
   "source": [
    "'''Notes:\n",
    "1. Need to add the previous seasons average to the csv file. After that, the machine learning section should be broken out to its own module and then called on all of the important\n",
    "features in determining the fan duel fantasy score. The players year should be entered, but this should be a dummy variable\n",
    "instead of an actual int value. \n",
    "\n",
    "3. This should be imported into the flask site with the ability to import all of the days players'''\n",
    "\n",
    "import pandas as pd\n",
    "import numpy as np\n",
    "import os\n"
   ]
  },
  {
   "cell_type": "code",
   "execution_count": 3,
   "metadata": {},
   "outputs": [],
   "source": [
    "# Data Cleanup\n",
    "\n",
    "os.chdir(r'F:\\Projects\\NBA\\DB_Files')\n",
    "df = pd.read_csv('master.csv')\n",
    "\n",
    "\n",
    "targets = ['TOV', 'REB', '3PM', 'FGM', 'PTS', 'AST', 'STL', 'BLK']"
   ]
  },
  {
   "cell_type": "code",
   "execution_count": 5,
   "metadata": {},
   "outputs": [],
   "source": [
    "#Add how well they did in the last game\n",
    "for i in targets:\n",
    "    df['Last_Game_' + i] = df.groupby('Name')[i].shift(1)   \n",
    "    #df['Last_Game_Points'] = df.groupby('Name').PTS.shift(1)\n",
    "\n",
    "    #The rolling average method returns a multi-index dataframe. This needs to be added to the dataframe with the indexs dropped. \n",
    "    average = df.groupby('Name')[i].rolling(5).mean()\n",
    "    #average = df.groupby('Name')['PTS'].rolling(5).mean()\n",
    "    df[\"Average\" + i] = average.reset_index(level=0, drop=True)\n",
    "    #df[\"Average\"] = average.reset_index(level=0, drop=True)"
   ]
  },
  {
   "cell_type": "code",
   "execution_count": 6,
   "metadata": {},
   "outputs": [],
   "source": [
    "df['Date'] = pd.to_datetime(df['Date'])"
   ]
  },
  {
   "cell_type": "code",
   "execution_count": 25,
   "metadata": {},
   "outputs": [],
   "source": [
    "df.to_csv('Master.csv', index=False)"
   ]
  },
  {
   "cell_type": "code",
   "execution_count": null,
   "metadata": {},
   "outputs": [],
   "source": []
  }
 ],
 "metadata": {
  "kernelspec": {
   "display_name": "Python 3",
   "language": "python",
   "name": "python3"
  },
  "language_info": {
   "codemirror_mode": {
    "name": "ipython",
    "version": 3
   },
   "file_extension": ".py",
   "mimetype": "text/x-python",
   "name": "python",
   "nbconvert_exporter": "python",
   "pygments_lexer": "ipython3",
   "version": "3.6.5"
  }
 },
 "nbformat": 4,
 "nbformat_minor": 2
}
